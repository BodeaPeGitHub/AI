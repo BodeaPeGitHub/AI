{
 "cells": [
  {
   "cell_type": "code",
   "execution_count": 35,
   "metadata": {
    "collapsed": true
   },
   "outputs": [
    {
     "name": "stderr",
     "output_type": "stream",
     "text": [
      "[nltk_data] Downloading package movie_reviews to\n",
      "[nltk_data]     C:\\Users\\Luca\\AppData\\Roaming\\nltk_data...\n",
      "[nltk_data]   Package movie_reviews is already up-to-date!\n"
     ]
    }
   ],
   "source": [
    "import matplotlib.pyplot as plt\n",
    "plt.style.use({'figure.facecolor':'white'})\n",
    "from nltk.classify import NaiveBayesClassifier\n",
    "import nltk\n",
    "nltk.download('movie_reviews')\n",
    "from nltk.corpus import movie_reviews\n"
   ]
  },
  {
   "cell_type": "code",
   "execution_count": 36,
   "outputs": [],
   "source": [
    "def extract_features(word_list):\n",
    "    return dict([(word, True) for word in word_list])"
   ],
   "metadata": {
    "collapsed": false,
    "pycharm": {
     "name": "#%%\n"
    }
   }
  },
  {
   "cell_type": "code",
   "execution_count": 37,
   "outputs": [
    {
     "name": "stdout",
     "output_type": "stream",
     "text": [
      "({'films': True, 'adapted': True, 'from': True, 'comic': True, 'books': True, 'have': True, 'had': True, 'plenty': True, 'of': True, 'success': True, ',': True, 'whether': True, 'they': True, \"'\": True, 're': True, 'about': True, 'superheroes': True, '(': True, 'batman': True, 'superman': True, 'spawn': True, ')': True, 'or': True, 'geared': True, 'toward': True, 'kids': True, 'casper': True, 'the': True, 'arthouse': True, 'crowd': True, 'ghost': True, 'world': True, 'but': True, 'there': True, 's': True, 'never': True, 'really': True, 'been': True, 'a': True, 'book': True, 'like': True, 'hell': True, 'before': True, '.': True, 'for': True, 'starters': True, 'it': True, 'was': True, 'created': True, 'by': True, 'alan': True, 'moore': True, 'and': True, 'eddie': True, 'campbell': True, 'who': True, 'brought': True, 'medium': True, 'to': True, 'whole': True, 'new': True, 'level': True, 'in': True, 'mid': True, '80s': True, 'with': True, '12': True, '-': True, 'part': True, 'series': True, 'called': True, 'watchmen': True, 'say': True, 'thoroughly': True, 'researched': True, 'subject': True, 'jack': True, 'ripper': True, 'would': True, 'be': True, 'saying': True, 'michael': True, 'jackson': True, 'is': True, 'starting': True, 'look': True, 'little': True, 'odd': True, '\"': True, 'graphic': True, 'novel': True, 'if': True, 'you': True, 'will': True, 'over': True, '500': True, 'pages': True, 'long': True, 'includes': True, 'nearly': True, '30': True, 'more': True, 'that': True, 'consist': True, 'nothing': True, 'footnotes': True, 'other': True, 'words': True, 'don': True, 't': True, 'dismiss': True, 'this': True, 'film': True, 'because': True, 'its': True, 'source': True, 'can': True, 'get': True, 'past': True, 'thing': True, 'might': True, 'find': True, 'another': True, 'stumbling': True, 'block': True, 'directors': True, 'albert': True, 'allen': True, 'hughes': True, 'getting': True, 'brothers': True, 'direct': True, 'seems': True, 'almost': True, 'as': True, 'ludicrous': True, 'casting': True, 'carrot': True, 'top': True, 'well': True, 'anything': True, 'riddle': True, 'me': True, ':': True, 'better': True, 'set': True, 'ghetto': True, 'features': True, 'violent': True, 'street': True, 'crime': True, 'than': True, 'mad': True, 'geniuses': True, 'behind': True, 'menace': True, 'ii': True, 'society': True, '?': True, 'question': True, 'course': True, 'whitechapel': True, '1888': True, 'london': True, 'east': True, 'end': True, 'filthy': True, 'sooty': True, 'place': True, 'where': True, 'whores': True, 'unfortunates': True, 'are': True, 'nervous': True, 'mysterious': True, 'psychopath': True, 'has': True, 'carving': True, 'through': True, 'their': True, 'profession': True, 'surgical': True, 'precision': True, 'when': True, 'first': True, 'stiff': True, 'turns': True, 'up': True, 'copper': True, 'peter': True, 'godley': True, 'robbie': True, 'coltrane': True, 'not': True, 'enough': True, 'calls': True, 'inspector': True, 'frederick': True, 'abberline': True, 'johnny': True, 'depp': True, 'blow': True, 'crack': True, 'case': True, 'widower': True, 'prophetic': True, 'dreams': True, 'he': True, 'unsuccessfully': True, 'tries': True, 'quell': True, 'copious': True, 'amounts': True, 'absinthe': True, 'opium': True, 'upon': True, 'arriving': True, 'befriends': True, 'an': True, 'unfortunate': True, 'named': True, 'mary': True, 'kelly': True, 'heather': True, 'graham': True, 'isn': True, 'so': True, 'proceeds': True, 'investigate': True, 'horribly': True, 'gruesome': True, 'crimes': True, 'even': True, 'police': True, 'surgeon': True, 'stomach': True, 'i': True, 'think': True, 'anyone': True, 'needs': True, 'briefed': True, 'on': True, 'won': True, 'go': True, 'into': True, 'particulars': True, 'here': True, 'unique': True, 'interesting': True, 'theory': True, 'both': True, 'identity': True, 'killer': True, 'reasons': True, 'chooses': True, 'slay': True, 'bother': True, 'cloaking': True, 'screenwriters': True, 'terry': True, 'hayes': True, 'vertical': True, 'limit': True, 'rafael': True, 'yglesias': True, 'les': True, 'mis': True, 'rables': True, 'do': True, 'good': True, 'job': True, 'keeping': True, 'him': True, 'hidden': True, 'viewers': True, 'until': True, 'very': True, 'funny': True, 'watch': True, 'locals': True, 'blindly': True, 'point': True, 'finger': True, 'blame': True, 'at': True, 'jews': True, 'indians': True, 'after': True, 'all': True, 'englishman': True, 'could': True, 'capable': True, 'committing': True, 'such': True, 'ghastly': True, 'acts': True, 'ending': True, 'whistling': True, 'stonecutters': True, 'song': True, 'simpsons': True, 'days': True, 'holds': True, 'back': True, 'electric': True, 'car': True, '/': True, 'made': True, 'steve': True, 'guttenberg': True, 'star': True, 'worry': True, 'll': True, 'make': True, 'sense': True, 'see': True, 'now': True, 'onto': True, 'appearance': True, 'certainly': True, 'dark': True, 'bleak': True, 'surprising': True, 'how': True, 'much': True, 'looks': True, 'tim': True, 'burton': True, 'planet': True, 'apes': True, 'did': True, 'times': True, 'sleepy': True, 'hollow': True, '2': True, 'print': True, 'saw': True, 'wasn': True, 'completely': True, 'finished': True, 'color': True, 'music': True, 'finalized': True, 'no': True, 'comments': True, 'marilyn': True, 'manson': True, 'cinematographer': True, 'deming': True, 'word': True, 'ably': True, 'captures': True, 'dreariness': True, 'victorian': True, 'era': True, 'helped': True, 'flashy': True, 'killing': True, 'scenes': True, 'remind': True, 'crazy': True, 'flashbacks': True, 'twin': True, 'peaks': True, 'though': True, 'violence': True, 'pales': True, 'comparison': True, 'black': True, 'white': True, 'oscar': True, 'winner': True, 'martin': True, 'childs': True, 'shakespeare': True, 'love': True, 'production': True, 'design': True, 'original': True, 'prague': True, 'surroundings': True, 'one': True, 'creepy': True, 'acting': True, 'solid': True, 'dreamy': True, 'turning': True, 'typically': True, 'strong': True, 'performance': True, 'deftly': True, 'handling': True, 'british': True, 'accent': True, 'ians': True, 'holm': True, 'joe': True, 'gould': True, 'secret': True, 'richardson': True, '102': True, 'dalmatians': True, 'log': True, 'great': True, 'supporting': True, 'roles': True, 'big': True, 'surprise': True, 'cringed': True, 'time': True, 'she': True, 'opened': True, 'her': True, 'mouth': True, 'imagining': True, 'attempt': True, 'irish': True, 'actually': True, 'half': True, 'bad': True, 'however': True, '00': True, 'r': True, 'gore': True, 'sexuality': True, 'language': True, 'drug': True, 'content': True}, 'Positive')\n",
      "({'plot': True, ':': True, 'two': True, 'teen': True, 'couples': True, 'go': True, 'to': True, 'a': True, 'church': True, 'party': True, ',': True, 'drink': True, 'and': True, 'then': True, 'drive': True, '.': True, 'they': True, 'get': True, 'into': True, 'an': True, 'accident': True, 'one': True, 'of': True, 'the': True, 'guys': True, 'dies': True, 'but': True, 'his': True, 'girlfriend': True, 'continues': True, 'see': True, 'him': True, 'in': True, 'her': True, 'life': True, 'has': True, 'nightmares': True, 'what': True, \"'\": True, 's': True, 'deal': True, '?': True, 'watch': True, 'movie': True, '\"': True, 'sorta': True, 'find': True, 'out': True, 'critique': True, 'mind': True, '-': True, 'fuck': True, 'for': True, 'generation': True, 'that': True, 'touches': True, 'on': True, 'very': True, 'cool': True, 'idea': True, 'presents': True, 'it': True, 'bad': True, 'package': True, 'which': True, 'is': True, 'makes': True, 'this': True, 'review': True, 'even': True, 'harder': True, 'write': True, 'since': True, 'i': True, 'generally': True, 'applaud': True, 'films': True, 'attempt': True, 'break': True, 'mold': True, 'mess': True, 'with': True, 'your': True, 'head': True, 'such': True, '(': True, 'lost': True, 'highway': True, '&': True, 'memento': True, ')': True, 'there': True, 'are': True, 'good': True, 'ways': True, 'making': True, 'all': True, 'types': True, 'these': True, 'folks': True, 'just': True, 'didn': True, 't': True, 'snag': True, 'correctly': True, 'seem': True, 'have': True, 'taken': True, 'pretty': True, 'neat': True, 'concept': True, 'executed': True, 'terribly': True, 'so': True, 'problems': True, 'well': True, 'its': True, 'main': True, 'problem': True, 'simply': True, 'too': True, 'jumbled': True, 'starts': True, 'off': True, 'normal': True, 'downshifts': True, 'fantasy': True, 'world': True, 'you': True, 'as': True, 'audience': True, 'member': True, 'no': True, 'going': True, 'dreams': True, 'characters': True, 'coming': True, 'back': True, 'from': True, 'dead': True, 'others': True, 'who': True, 'look': True, 'like': True, 'strange': True, 'apparitions': True, 'disappearances': True, 'looooot': True, 'chase': True, 'scenes': True, 'tons': True, 'weird': True, 'things': True, 'happen': True, 'most': True, 'not': True, 'explained': True, 'now': True, 'personally': True, 'don': True, 'trying': True, 'unravel': True, 'film': True, 'every': True, 'when': True, 'does': True, 'give': True, 'me': True, 'same': True, 'clue': True, 'over': True, 'again': True, 'kind': True, 'fed': True, 'up': True, 'after': True, 'while': True, 'biggest': True, 'obviously': True, 'got': True, 'big': True, 'secret': True, 'hide': True, 'seems': True, 'want': True, 'completely': True, 'until': True, 'final': True, 'five': True, 'minutes': True, 'do': True, 'make': True, 'entertaining': True, 'thrilling': True, 'or': True, 'engaging': True, 'meantime': True, 'really': True, 'sad': True, 'part': True, 'arrow': True, 'both': True, 'dig': True, 'flicks': True, 'we': True, 'actually': True, 'figured': True, 'by': True, 'half': True, 'way': True, 'point': True, 'strangeness': True, 'did': True, 'start': True, 'little': True, 'bit': True, 'sense': True, 'still': True, 'more': True, 'guess': True, 'bottom': True, 'line': True, 'movies': True, 'should': True, 'always': True, 'sure': True, 'before': True, 'given': True, 'password': True, 'enter': True, 'understanding': True, 'mean': True, 'showing': True, 'melissa': True, 'sagemiller': True, 'running': True, 'away': True, 'visions': True, 'about': True, '20': True, 'throughout': True, 'plain': True, 'lazy': True, '!': True, 'okay': True, 'people': True, 'chasing': True, 'know': True, 'need': True, 'how': True, 'giving': True, 'us': True, 'different': True, 'offering': True, 'further': True, 'insight': True, 'down': True, 'apparently': True, 'studio': True, 'took': True, 'director': True, 'chopped': True, 'themselves': True, 'shows': True, 'might': True, 've': True, 'been': True, 'decent': True, 'here': True, 'somewhere': True, 'suits': True, 'decided': True, 'turning': True, 'music': True, 'video': True, 'edge': True, 'would': True, 'actors': True, 'although': True, 'wes': True, 'bentley': True, 'seemed': True, 'be': True, 'playing': True, 'exact': True, 'character': True, 'he': True, 'american': True, 'beauty': True, 'only': True, 'new': True, 'neighborhood': True, 'my': True, 'kudos': True, 'holds': True, 'own': True, 'entire': True, 'feeling': True, 'unraveling': True, 'overall': True, 'doesn': True, 'stick': True, 'because': True, 'entertain': True, 'confusing': True, 'rarely': True, 'excites': True, 'feels': True, 'redundant': True, 'runtime': True, 'despite': True, 'ending': True, 'explanation': True, 'craziness': True, 'came': True, 'oh': True, 'horror': True, 'slasher': True, 'flick': True, 'packaged': True, 'someone': True, 'assuming': True, 'genre': True, 'hot': True, 'kids': True, 'also': True, 'wrapped': True, 'production': True, 'years': True, 'ago': True, 'sitting': True, 'shelves': True, 'ever': True, 'whatever': True, 'skip': True, 'where': True, 'joblo': True, 'nightmare': True, 'elm': True, 'street': True, '3': True, '7': True, '/': True, '10': True, 'blair': True, 'witch': True, '2': True, 'crow': True, '9': True, 'salvation': True, '4': True, 'stir': True, 'echoes': True, '8': True}, 'Negative')\n"
     ]
    }
   ],
   "source": [
    "positive_fileids = movie_reviews.fileids('pos')\n",
    "negative_fileids = movie_reviews.fileids('neg')\n",
    "\n",
    "features_positive = [(extract_features(movie_reviews.words(fileids=[f])),'Positive') for f in positive_fileids]\n",
    "features_negative = [(extract_features(movie_reviews.words(fileids=[f])),'Negative') for f in negative_fileids]\n",
    "\n",
    "print(features_positive[0])\n",
    "print(features_negative[0])"
   ],
   "metadata": {
    "collapsed": false,
    "pycharm": {
     "name": "#%%\n"
    }
   }
  },
  {
   "cell_type": "code",
   "execution_count": 38,
   "outputs": [
    {
     "name": "stdout",
     "output_type": "stream",
     "text": [
      "Connected to database.\n"
     ]
    }
   ],
   "source": [
    "import sqlite3\n",
    "\n",
    "sqlite_connection = sqlite3.connect(\"tweets/database.sqlite\")\n",
    "cursor = sqlite_connection.cursor()\n",
    "print(\"Connected to database.\")\n",
    "query = \"select text, airline_sentiment from Tweets where airline_sentiment != 'neutral';\"\n",
    "rows = cursor.execute(query).fetchall()\n",
    "input_text = []\n",
    "output_sentiment = []\n",
    "for row in rows:\n",
    "    input_text.append(row[0])\n",
    "    output_sentiment.append('Negative' if row[1] == 'negative' else 'Positive')\n"
   ],
   "metadata": {
    "collapsed": false,
    "pycharm": {
     "name": "#%%\n"
    }
   }
  },
  {
   "cell_type": "code",
   "execution_count": 39,
   "outputs": [
    {
     "name": "stdout",
     "output_type": "stream",
     "text": [
      "({'@JetBlue': True, 'is': True, 'REALLY': True, 'getting': True, 'on': True, 'my': True, 'nerves': True, '!!': True, '😡😡': True, '#nothappy': True}, 'Negative')\n",
      "({'@united': True, 'yes.': True, 'We': True, 'waited': True, 'in': True, 'line': True, 'for': True, 'almost': True, 'an': True, 'hour': True, 'to': True, 'do': True, 'so.': True, 'Some': True, 'passengers': True, 'just': True, 'left': True, 'not': True, 'wanting': True, 'wait': True, 'past': True, '1am.': True}, 'Negative')\n",
      "({'@united': True, 'the': True, 'we': True, 'got': True, 'into': True, 'gate': True, 'at': True, 'IAH': True, 'on': True, 'time': True, 'and': True, 'have': True, 'given': True, 'our': True, 'seats': True, 'closed': True, 'flight.': True, 'If': True, 'you': True, 'know': True, 'people': True, 'is': True, 'arriving,': True, 'to': True, 'wait': True}, 'Negative')\n",
      "({'@SouthwestAir': True, 'its': True, 'cool': True, 'that': True, 'my': True, 'bags': True, 'take': True, 'a': True, 'bit': True, 'longer,': True, 'dont': True, 'give': True, 'me': True, 'baggage': True, 'blue': True, 'balls-turn': True, 'the': True, 'carousel': True, 'on,': True, 'tell': True, \"it's\": True, 'coming,': True, 'then': True, 'not.': True}, 'Negative')\n"
     ]
    }
   ],
   "source": [
    "features = [(extract_features(text.strip().split(\" \")), sentiment) for text, sentiment in zip(input_text, output_sentiment)]\n",
    "for feature in features[:4]:\n",
    "    print(feature)"
   ],
   "metadata": {
    "collapsed": false,
    "pycharm": {
     "name": "#%%\n"
    }
   }
  },
  {
   "cell_type": "code",
   "execution_count": 40,
   "outputs": [
    {
     "name": "stdout",
     "output_type": "stream",
     "text": [
      "Train size: 9132\n",
      "Test size 2284\n"
     ]
    }
   ],
   "source": [
    "from sklearn.model_selection import train_test_split\n",
    "input_features = [elem[0] for elem in features]\n",
    "output = [elem[1] for elem in features]\n",
    "x_train, x_test, y_train, y_test = train_test_split(input_features, output, test_size=.2, shuffle=True)\n",
    "print('Train size:', len(x_train))\n",
    "print('Test size', len(x_test))\n",
    "train_data = [(feature, out) for feature, out in zip(x_train, y_train)]\n",
    "validation_data = [(feature, out) for feature, out in zip(x_test, y_test)]"
   ],
   "metadata": {
    "collapsed": false,
    "pycharm": {
     "name": "#%%\n"
    }
   }
  },
  {
   "cell_type": "code",
   "execution_count": 41,
   "outputs": [
    {
     "name": "stdout",
     "output_type": "stream",
     "text": [
      "Accuracy for the classifier:  0.8918563922942206\n"
     ]
    }
   ],
   "source": [
    "classifier = NaiveBayesClassifier.train(train_data)\n",
    "print('Accuracy for the classifier: ', nltk.classify.util.accuracy(classifier, validation_data))\n"
   ],
   "metadata": {
    "collapsed": false,
    "pycharm": {
     "name": "#%%\n"
    }
   }
  },
  {
   "cell_type": "markdown",
   "source": [
    "## Compute old posts from multiple train data."
   ],
   "metadata": {
    "collapsed": false,
    "pycharm": {
     "name": "#%% md\n"
    }
   }
  },
  {
   "cell_type": "code",
   "execution_count": 42,
   "outputs": [
    {
     "name": "stdout",
     "output_type": "stream",
     "text": [
      "Text: {'@AmericanAir': True, 'when': True, 'the': True, 'pilot': True, 'announces': True, 'that': True, 'plane': True, 'has': True, 'been': True, 'unused': True, 'for': True, '2': True, 'days': True, 'and': True, 'maintenance': True, 'is': True, 'dealing': True, 'with': True, 'another': True, 'aircraft..': True, '@united': True, 'No': True, 'but': True, 'u': True, 'cld': True, 'explain': True, 'how': True, 'such': True, 'a': True, 'disorganized': True, 'inefficient': True, 'company': True, 'w': True, 'surly': True, 'obviously': True, 'unhappy': True, 'employees': True, 'stays': True, 'in': True, 'business.': True, '@SouthwestAir': True, 'looks': True, 'like': True, 'Bellagio': True, 'to': True, 'me!': True, 'Good': True, 'luck': True, 'people!': True, 'See': True, 'you': True, 'at': True, 'show': True, 'Vinyl': True, '@USAirways': True, 'big': True, 'thanks': True, 'gate': True, 'agent': True, 'flt5127..keeping': True, 'us': True, 'informed': True, 'of': True, 'delay#greatcustomerservice': True, 'guess': True, 'where': True, 'Ashley': True, 'is.': True, \"She's\": True, 'doing': True, 'great': True, 'job': True, 'presenting.': True, '#ragandisney': True, 'http://t.co/5ZNMwxDI9U': True}\n",
      "Sentiment:  Positive\n",
      "Text: {'@SouthwestAir': True, 'There': True, 'is': True, 'no': True, 'option': True, 'just': True, 'to': True, 'Cancelled': True, 'Flight?': True, 'I': True, \"don't\": True, 'want': True, 'change': True, 'flight,': True, 'Flight.': True, '@USAirways': True, '167': True, 'minutes?': True, '': True, '\"Im': True, 'not': True, 'trained': True, 'in': True, 'that\".': True, 'Cmon.': True, \"Can't\": True, 'you': True, 'do': True, 'better': True, 'than': True, 'that?': True, '@JetBlue': True, 'Thank': True, 'you.': True, 'really': True, 'would': True, 'have': True, 'preferred': True, 'Jet': True, 'Blue.': True, 'You': True, 'guys': True, 'the': True, 'best': True, 'seats': True, 'business.': True, '@SouthwestAir-': True, 'new': True, '#MKT': True, 'strategy': True, 'be': True, 'average': True, 'like': True, 'all': True, 'rest?': True, '#whathappend?': True, 'RR': True, 'Points': True, 'Devalued-': True, 'AGAIN': True, '-http://t.co/mDbDYomrs7': True, 'trying': True, 'charge': True, 'us': True, '$550': True, 'dollars': True, 'cash': True, 'for': True, 'tickets': True, 'we': True, 'paid': True, 'months': True, 'advance': True, '#isthisreal': True, '#nevertoldus': True, '#jetblue': True, '#NeverAgain': True}\n",
      "Sentiment:  Negative\n",
      "Text: {'@USAirways': True, 'actually': True, 'it': True, 'landed': True, 'in': True, 'BWI': True, '30': True, 'minutes': True, 'ago.': True, 'She': True, 'is': True, 'stranded': True, 'but': True, 'I': True, 'have': True, 'friends': True, 'to': True, 'help.': True, 'You': True, 'FAILED': True, 'big': True, 'time': True, 'on': True, 'this': True, 'one.': True, '@JetBlue': True, 'Thanks': True, 'so': True, 'much': True, 'for': True, 'talking': True, 'me!': True, 'The': True, 'article': True, 'about': True, '#Twitter': True, 'chats': True, 'came': True, 'out': True, 'great!': True, 'http://t.co/rKorHvR9z1': True, '#contentmarketing': True, '@united': True, 'Flight': True, '211/ORD': True, 'gate': True, 'agent': True, 'tried': True, 'prevent': True, 'me': True, 'from': True, 'taking': True, 'onboard': True, 'a': True, 'bag': True, \"I've\": True, 'used': True, '15': True, 'years!': True, 'crew': True, 'was': True, 'more': True, 'reasonable!': True, '@SouthwestAir': True, '9': True, 'hrs': True, 'Baltimore,': True, 'still': True, 'not': True, 'going': True, 'get': True, 'my': True, 'baggage': True, 'greenville': True, 'w': True, 'me.': True, 'This': True, 'just': True, 'unbelievable.': True, \"I'm\": True, 'over': True, 'that': True, 'honestly': True, 'would': True, 'like': True, 'the': True, 'journey.': True}\n",
      "Sentiment:  Negative\n"
     ]
    }
   ],
   "source": [
    "from random import shuffle\n",
    "size_of_post = 5\n",
    "indexes = [i for i in range(len(validation_data))]\n",
    "shuffle(indexes)\n",
    "posts = []\n",
    "while indexes:\n",
    "    posts_text = []\n",
    "    sentiments = []\n",
    "    for idx in indexes[:size_of_post]:\n",
    "        posts_text += validation_data[idx][0]\n",
    "        sentiments += [validation_data[idx][1]]\n",
    "        indexes.remove(idx)\n",
    "    posts.append((extract_features(posts_text), \"Negative\" if sentiments.count(\"Negative\") > size_of_post // 2 else \"Positive\"))\n",
    "\n",
    "for post in posts[:3]:\n",
    "    print('Text:', post[0])\n",
    "    print('Sentiment: ', post[1])"
   ],
   "metadata": {
    "collapsed": false,
    "pycharm": {
     "name": "#%%\n"
    }
   }
  },
  {
   "cell_type": "code",
   "execution_count": 43,
   "outputs": [
    {
     "name": "stdout",
     "output_type": "stream",
     "text": [
      "Accuracy for the classifier with posts:  0.9409190371991247\n"
     ]
    }
   ],
   "source": [
    "print('Accuracy for the classifier with posts: ', nltk.classify.util.accuracy(classifier, posts))"
   ],
   "metadata": {
    "collapsed": false,
    "pycharm": {
     "name": "#%%\n"
    }
   }
  }
 ],
 "metadata": {
  "kernelspec": {
   "display_name": "Python 3",
   "language": "python",
   "name": "python3"
  },
  "language_info": {
   "codemirror_mode": {
    "name": "ipython",
    "version": 2
   },
   "file_extension": ".py",
   "mimetype": "text/x-python",
   "name": "python",
   "nbconvert_exporter": "python",
   "pygments_lexer": "ipython2",
   "version": "2.7.6"
  }
 },
 "nbformat": 4,
 "nbformat_minor": 0
}